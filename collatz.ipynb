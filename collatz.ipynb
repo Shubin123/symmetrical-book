import matplotlib.pyplot as plt 

a = 1000

b = []
b.append(a)



for n in b:

    if n%2 == 0:
        new = n/2
        b.append(new)
        print("divided(x/2):",new)

    elif n == 1 and len(b) == 1:
        print("your loop will consists of 1,4,2,...")

    elif n == 1:
        ops = len(b) - 1 
        print("done! #of operations done:", '\033[1m' ,ops , '\033[0m', "final list of numbers:",'\033[1m' ,b, '\033[0m', )


    elif n == -1: 
        print("your loop will consist of -1,-2,-1...")


    else:
        new = (3*n)+1
        b.append(new)
        print("multiplied(3x+1) to:",new)
            

plt.plot(b)
plt.ylabel("y=value of each collatz iteration")
plt.xlabel("x=each iteration of collatz conjecture starting from zero")
plt.show()



